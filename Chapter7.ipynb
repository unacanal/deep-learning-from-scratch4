{
 "cells": [
  {
   "cell_type": "code",
   "execution_count": 1,
   "metadata": {},
   "outputs": [
    {
     "name": "stdout",
     "output_type": "stream",
     "text": [
      "(1, 12)\n",
      "[[0. 0. 0. 0. 0. 0. 0. 0. 1. 0. 0. 0.]]\n"
     ]
    }
   ],
   "source": [
    "import numpy as np\n",
    "\n",
    "def one_hot(state):\n",
    "    # 벡터 준비\n",
    "    HEIGHT, WIDTH = 3, 4\n",
    "    vec = np.zeros(HEIGHT * WIDTH, dtype=np.float32)\n",
    "    \n",
    "    # state에 해당하는 원소만 1.0으로 설정\n",
    "    y, x = state\n",
    "    idx = WIDTH * y + x\n",
    "    vec[idx] = 1.0\n",
    "    \n",
    "    # 배치 처리를 위해 새로운 축 추가\n",
    "    return vec[np.newaxis, :]\n",
    "\t\t\n",
    "state = (2, 0)\n",
    "x = one_hot(state)\n",
    "\n",
    "print(x.shape)\n",
    "print(x)"
   ]
  },
  {
   "cell_type": "markdown",
   "metadata": {},
   "source": [
    "지금까지의 Q 함수: 테이블로 표현\n",
    "\n",
    "Q는 (state, action) 쌍의 데이터를 입력받아 Q 함수의 값을 출력한다."
   ]
  },
  {
   "cell_type": "code",
   "execution_count": 2,
   "metadata": {},
   "outputs": [
    {
     "name": "stdout",
     "output_type": "stream",
     "text": [
      "0\n"
     ]
    }
   ],
   "source": [
    "from collections import defaultdict\n",
    "\n",
    "Q = defaultdict(lambda: 0)\n",
    "state = (2, 0)\n",
    "action = 0\n",
    "\n",
    "print(Q[state, action])"
   ]
  },
  {
   "cell_type": "markdown",
   "metadata": {},
   "source": [
    "신경망으로 구현하기 위한 방법\n",
    "1. s, a -> 신경망 -> Q 함수 값\n",
    "2. s -> 신경망 -> 모든 행동에 대한 Q 함수 값\n",
    "\n",
    "첫 번째 방법은 계산 비용이 커진다. Q 함수의 최댓값을 구하는 계산 비용이 높다."
   ]
  },
  {
   "cell_type": "code",
   "execution_count": 3,
   "metadata": {},
   "outputs": [
    {
     "name": "stdout",
     "output_type": "stream",
     "text": [
      "(1, 4)\n",
      "variable([[-0.1092859   0.04697072 -0.14281534 -0.1432163 ]])\n"
     ]
    }
   ],
   "source": [
    "# pip install dezero\n",
    "from dezero import Model\n",
    "import dezero.functions as F\n",
    "import dezero.layers as L\n",
    "\n",
    "class QNet(Model):\n",
    "    def __init__(self):\n",
    "        super().__init__()\n",
    "        self.l1 = L.Linear(100) # 중간층의 크기\n",
    "        self.l2 = L.Linear(4)  # 행동의 크기(가능한 행동의 수)\n",
    "\n",
    "    def forward(self, x):\n",
    "        x = F.relu(self.l1(x))\n",
    "        x = self.l2(x)\n",
    "        return x\n",
    "    \n",
    "qnet = QNet()\n",
    "\n",
    "state = (2, 0)\n",
    "state = one_hot(state)\n",
    "\n",
    "qs = qnet(state)\n",
    "print(qs.shape)\n",
    "print(qs)"
   ]
  },
  {
   "cell_type": "code",
   "execution_count": 4,
   "metadata": {},
   "outputs": [],
   "source": [
    "import dezero.optimizers as optimizers\n",
    "\n",
    "class QLearningAgent:\n",
    "    def __init__(self):\n",
    "        self.gamma = 0.9\n",
    "        self.lr = 0.01\n",
    "        self.epsilon = 0.1\n",
    "        self.action_size = 4\n",
    "\n",
    "        self.qnet = QNet()                          # 신경망 초기화\n",
    "        self.optimizer = optimizers.SGD(self.lr)    # 옵티마이저 생성\n",
    "        self.optimizer.setup(self.qnet)             # 옵티마이저에 신경망 등록\n",
    "\n",
    "    def get_action(self, state):\n",
    "        if np.random.rand() < self.epsilon:\n",
    "            return np.random.choice(self.action_size)\n",
    "        else:\n",
    "            qs = self.qnet(state)\n",
    "            return qs.data.argmax()\n",
    "    \n",
    "    def update(self, state, action, reward, next_state, done):\n",
    "        done = int(done)\n",
    "        next_qs = self.qnet(next_state)\n",
    "        next_q = next_qs.max(axis=1)\n",
    "        next_q.unchain()\n",
    "        target = reward + (1 - done) * self.gamma * next_q\n",
    "        \n",
    "        qs = self.qnet(state)\n",
    "        q = qs[:, action]\n",
    "        loss = F.mean_squared_error(target, q)\n",
    "\n",
    "        self.qnet.cleargrads()\n",
    "        loss.backward()\n",
    "        self.optimizer.update()\n",
    "\n",
    "        return loss.data\n",
    "    '''\n",
    "    # if로 구현 (deprecated)\n",
    "    def update(self, state, action, reward, next_state, done):\n",
    "        # 다음 상태에서 최대가 되는 Q 함수의 값(next_q) 계산\n",
    "        if done: # 목표 상태에 도달\n",
    "            next_q = np.zeros(1) # [0.] (목표 상태에서의 Q 함수는 항상 0)\n",
    "        else:\n",
    "            next_qs = self.qnet(next_state)\n",
    "            next_q = next_qs.max(axis=1)\n",
    "            next_q.unchain() # next_q를 역전파 대상에서 제외\n",
    "        \n",
    "        target = self.gamma * next_q + reward\n",
    "        qs = self.qnet(state)\n",
    "        q = qs[:, action]\n",
    "        loss = F.mean_squared_error(target, q)\n",
    "\n",
    "        self.qnet.cleargrads()\n",
    "        loss.backward()\n",
    "        self.optimizer.update()\n",
    "\n",
    "        return loss.data\n",
    "    '''"
   ]
  },
  {
   "cell_type": "code",
   "execution_count": 5,
   "metadata": {},
   "outputs": [],
   "source": [
    "from gridworld import GridWorld\n",
    "env = GridWorld()\n",
    "agent = QLearningAgent()\n",
    "\n",
    "episodes = 1000\n",
    "loss_history = []\n",
    "\n",
    "for episode in range(episodes):\n",
    "    state = env.reset()\n",
    "    state = one_hot(state)\n",
    "    total_loss, cnt = 0, 0\n",
    "    done = False\n",
    "\n",
    "    while not done:\n",
    "        action = agent.get_action(state)\n",
    "        next_state, reward, done = env.step(action)\n",
    "        next_state = one_hot(next_state)\n",
    "\n",
    "        loss = agent.update(state, action, reward, next_state, done)\n",
    "        total_loss += loss\n",
    "        cnt += 1\n",
    "        state = next_state\n",
    "\n",
    "    average_loss = total_loss / cnt\n",
    "    loss_history.append(average_loss)"
   ]
  },
  {
   "cell_type": "code",
   "execution_count": 6,
   "metadata": {},
   "outputs": [
    {
     "data": {
      "image/png": "[encoded data removed]",
      "text/plain": [
       "<Figure size 640x480 with 1 Axes>"
      ]
     },
     "metadata": {},
     "output_type": "display_data"
    }
   ],
   "source": [
    "import matplotlib.pyplot as plt\n",
    "plt.plot(loss_history)\n",
    "plt.show()"
   ]
  },
  {
   "cell_type": "code",
   "execution_count": 7,
   "metadata": {},
   "outputs": [
    {
     "data": {
      "text/plain": [
       "variable([0.0828068  0.15063952 0.18003568 0.14471677])"
      ]
     },
     "execution_count": 7,
     "metadata": {},
     "output_type": "execute_result"
    }
   ],
   "source": [
    "qnet(one_hot((1, 2)))[0]"
   ]
  },
  {
   "cell_type": "code",
   "execution_count": null,
   "metadata": {},
   "outputs": [],
   "source": []
  }
 ],
 "metadata": {
  "kernelspec": {
   "display_name": "tag",
   "language": "python",
   "name": "python3"
  },
  "language_info": {
   "codemirror_mode": {
    "name": "ipython",
    "version": 3
   },
   "file_extension": ".py",
   "mimetype": "text/x-python",
   "name": "python",
   "nbconvert_exporter": "python",
   "pygments_lexer": "ipython3",
   "version": "3.10.13"
  }
 },
 "nbformat": 4,
 "nbformat_minor": 2
}
